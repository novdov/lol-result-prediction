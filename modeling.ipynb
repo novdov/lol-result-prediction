{
 "cells": [
  {
   "cell_type": "code",
   "execution_count": 1,
   "metadata": {},
   "outputs": [
    {
     "data": {
      "text/html": [
       "<script>requirejs.config({paths: { 'plotly': ['https://cdn.plot.ly/plotly-latest.min']},});if(!window.Plotly) {{require(['plotly'],function(plotly) {window.Plotly=plotly;});}}</script>"
      ],
      "text/vnd.plotly.v1+html": [
       "<script>requirejs.config({paths: { 'plotly': ['https://cdn.plot.ly/plotly-latest.min']},});if(!window.Plotly) {{require(['plotly'],function(plotly) {window.Plotly=plotly;});}}</script>"
      ]
     },
     "metadata": {},
     "output_type": "display_data"
    }
   ],
   "source": [
    "import os\n",
    "import plotly.offline as py\n",
    "import plotly.graph_objs as go\n",
    "import warnings\n",
    "from get_data import PrepareData\n",
    "\n",
    "py.init_notebook_mode(connected=True)\n",
    "warnings.filterwarnings('ignore')\n",
    "\n",
    "PATH = 'data'"
   ]
  },
  {
   "cell_type": "code",
   "execution_count": 2,
   "metadata": {},
   "outputs": [
    {
     "data": {
      "text/plain": [
       "((12879, 13), (12879,))"
      ]
     },
     "execution_count": 2,
     "metadata": {},
     "output_type": "execute_result"
    }
   ],
   "source": [
    "train = pd.read_csv(os.path.join(PATH, 'train.csv'))\n",
    "test = pd.read_csv(os.path.join(PATH, 'test.csv'))\n",
    "\n",
    "x_train, y_train = PrepareData(train).prepare_data()\n",
    "x_train.shape, y_train.shape"
   ]
  },
  {
   "cell_type": "code",
   "execution_count": 3,
   "metadata": {
    "collapsed": true
   },
   "outputs": [],
   "source": [
    "from sklearn.model_selection import train_test_split\n",
    "\n",
    "random_state = 42\n",
    "X_train, X_test, y_train, y_test = train_test_split(x_train, y_train, \n",
    "                                                    random_state=random_state)"
   ]
  },
  {
   "cell_type": "markdown",
   "metadata": {},
   "source": [
    "# Modeling\n",
    "\n",
    "- Random Forest\n",
    "- Logistic Regression\n",
    "- XGBoost"
   ]
  },
  {
   "cell_type": "markdown",
   "metadata": {},
   "source": [
    "## 1. Random Forest\n",
    "\n",
    "- Precision/Recall/F1: 0.88/0.88/0.88"
   ]
  },
  {
   "cell_type": "code",
   "execution_count": 4,
   "metadata": {
    "collapsed": true
   },
   "outputs": [],
   "source": [
    "from sklearn.ensemble import RandomForestClassifier\n",
    "\n",
    "rf = RandomForestClassifier(random_state=random_state)\n",
    "model = rf.fit(X_train, y_train)"
   ]
  },
  {
   "cell_type": "code",
   "execution_count": 5,
   "metadata": {
    "collapsed": true
   },
   "outputs": [],
   "source": [
    "pred = model.predict(X_test)"
   ]
  },
  {
   "cell_type": "code",
   "execution_count": 6,
   "metadata": {
    "collapsed": true
   },
   "outputs": [],
   "source": [
    "from sklearn.metrics import confusion_matrix\n",
    "from sklearn.metrics import classification_report"
   ]
  },
  {
   "cell_type": "code",
   "execution_count": 7,
   "metadata": {},
   "outputs": [
    {
     "name": "stdout",
     "output_type": "stream",
     "text": [
      "[[1327  167]\n",
      " [ 186 1540]]\n"
     ]
    }
   ],
   "source": [
    "print(confusion_matrix(y_test, pred))"
   ]
  },
  {
   "cell_type": "code",
   "execution_count": 8,
   "metadata": {},
   "outputs": [
    {
     "name": "stdout",
     "output_type": "stream",
     "text": [
      "             precision    recall  f1-score   support\n",
      "\n",
      "          0       0.88      0.89      0.88      1494\n",
      "          1       0.90      0.89      0.90      1726\n",
      "\n",
      "avg / total       0.89      0.89      0.89      3220\n",
      "\n"
     ]
    }
   ],
   "source": [
    "print(classification_report(y_test, pred))"
   ]
  },
  {
   "cell_type": "code",
   "execution_count": 9,
   "metadata": {},
   "outputs": [
    {
     "data": {
      "text/plain": [
       "('criterion',\n",
       " 'max_depth',\n",
       " 'min_samples_split',\n",
       " 'min_samples_leaf',\n",
       " 'min_weight_fraction_leaf',\n",
       " 'max_features',\n",
       " 'max_leaf_nodes',\n",
       " 'min_impurity_decrease',\n",
       " 'min_impurity_split',\n",
       " 'random_state')"
      ]
     },
     "execution_count": 9,
     "metadata": {},
     "output_type": "execute_result"
    }
   ],
   "source": [
    "rf.estimator_params"
   ]
  },
  {
   "cell_type": "code",
   "execution_count": 10,
   "metadata": {},
   "outputs": [
    {
     "name": "stdout",
     "output_type": "stream",
     "text": [
      "Cross Val Scores:  [ 0.87732919  0.87111801  0.87318841  0.87991718  0.89539099]\n",
      "Avg Score of CV: 0.879\n"
     ]
    }
   ],
   "source": [
    "from sklearn.model_selection import cross_val_score\n",
    "from sklearn.model_selection import KFold\n",
    "\n",
    "cv = KFold(5)\n",
    "cv_scores = cross_val_score(model, X_train, y_train, cv=cv)\n",
    "\n",
    "print('Cross Val Scores: ', cv_scores)\n",
    "print('Avg Score of CV: {:.3f}'.format(cv_scores.mean()))"
   ]
  },
  {
   "cell_type": "code",
   "execution_count": 11,
   "metadata": {
    "collapsed": true
   },
   "outputs": [],
   "source": [
    "import operator\n",
    "\n",
    "importance_dict = {}\n",
    "for imp, col in zip(rf.feature_importances_, X_train.columns):\n",
    "    importance_dict[col] = imp\n",
    "\n",
    "sorted_imp = sorted(importance_dict.items(), key=lambda x: x[1])\n",
    "\n",
    "cols = [item[0] for item in sorted_imp]\n",
    "imps = [item[1] for item in sorted_imp]"
   ]
  },
  {
   "cell_type": "code",
   "execution_count": 12,
   "metadata": {
    "collapsed": true
   },
   "outputs": [],
   "source": [
    "# plt.figure(figsize=(10, 7))\n",
    "\n",
    "# sns.barplot(x=imps, y=cols, palette='OrRd_r')\n",
    "# plt.title('Feature Importances')\n",
    "# plt.show()"
   ]
  },
  {
   "cell_type": "code",
   "execution_count": 13,
   "metadata": {},
   "outputs": [
    {
     "data": {
      "application/vnd.plotly.v1+json": {
       "data": [
        {
         "marker": {
          "color": [
           "#ff6600",
           "#ff6600",
           "#ff6600",
           "#00cc99",
           "#00cc99",
           "#00cc99",
           "#00cc99",
           "#0066cc",
           "#0066cc",
           "#0066cc",
           "#ff0033",
           "#ff0033",
           "#ff0033"
          ]
         },
         "opacity": 0.9,
         "orientation": "h",
         "type": "bar",
         "x": [
          0.009032015439793414,
          0.012342568698931921,
          0.01900327186538471,
          0.03332309338883601,
          0.04736902442870203,
          0.050555597302455256,
          0.05145286760559605,
          0.07137063080160554,
          0.07187274145980856,
          0.07687066790942668,
          0.0871983648003561,
          0.13437158788557102,
          0.3352375684135328
         ],
         "y": [
          "kda_range_0",
          "kda_range_1",
          "kda_range_2",
          "wards",
          "kill",
          "cs_m",
          "cs",
          "death",
          "time",
          "assist",
          "kda_range_3",
          "p_kill",
          "kda"
         ]
        }
       ],
       "layout": {
        "title": "Feature Importances of Random Forest",
        "xaxis": {
         "title": "Importances"
        }
       }
      },
      "text/html": [
       "<div id=\"63e5d7a8-3cdb-47cf-83a3-414519ddaa09\" style=\"height: 525px; width: 100%;\" class=\"plotly-graph-div\"></div><script type=\"text/javascript\">require([\"plotly\"], function(Plotly) { window.PLOTLYENV=window.PLOTLYENV || {};window.PLOTLYENV.BASE_URL=\"https://plot.ly\";Plotly.newPlot(\"63e5d7a8-3cdb-47cf-83a3-414519ddaa09\", [{\"type\": \"bar\", \"x\": [0.009032015439793414, 0.012342568698931921, 0.01900327186538471, 0.03332309338883601, 0.04736902442870203, 0.050555597302455256, 0.05145286760559605, 0.07137063080160554, 0.07187274145980856, 0.07687066790942668, 0.0871983648003561, 0.13437158788557102, 0.3352375684135328], \"y\": [\"kda_range_0\", \"kda_range_1\", \"kda_range_2\", \"wards\", \"kill\", \"cs_m\", \"cs\", \"death\", \"time\", \"assist\", \"kda_range_3\", \"p_kill\", \"kda\"], \"orientation\": \"h\", \"marker\": {\"color\": [\"#ff6600\", \"#ff6600\", \"#ff6600\", \"#00cc99\", \"#00cc99\", \"#00cc99\", \"#00cc99\", \"#0066cc\", \"#0066cc\", \"#0066cc\", \"#ff0033\", \"#ff0033\", \"#ff0033\"]}, \"opacity\": 0.9}], {\"title\": \"Feature Importances of Random Forest\", \"xaxis\": {\"title\": \"Importances\"}}, {\"showLink\": true, \"linkText\": \"Export to plot.ly\"})});</script>"
      ],
      "text/vnd.plotly.v1+html": [
       "<div id=\"63e5d7a8-3cdb-47cf-83a3-414519ddaa09\" style=\"height: 525px; width: 100%;\" class=\"plotly-graph-div\"></div><script type=\"text/javascript\">require([\"plotly\"], function(Plotly) { window.PLOTLYENV=window.PLOTLYENV || {};window.PLOTLYENV.BASE_URL=\"https://plot.ly\";Plotly.newPlot(\"63e5d7a8-3cdb-47cf-83a3-414519ddaa09\", [{\"type\": \"bar\", \"x\": [0.009032015439793414, 0.012342568698931921, 0.01900327186538471, 0.03332309338883601, 0.04736902442870203, 0.050555597302455256, 0.05145286760559605, 0.07137063080160554, 0.07187274145980856, 0.07687066790942668, 0.0871983648003561, 0.13437158788557102, 0.3352375684135328], \"y\": [\"kda_range_0\", \"kda_range_1\", \"kda_range_2\", \"wards\", \"kill\", \"cs_m\", \"cs\", \"death\", \"time\", \"assist\", \"kda_range_3\", \"p_kill\", \"kda\"], \"orientation\": \"h\", \"marker\": {\"color\": [\"#ff6600\", \"#ff6600\", \"#ff6600\", \"#00cc99\", \"#00cc99\", \"#00cc99\", \"#00cc99\", \"#0066cc\", \"#0066cc\", \"#0066cc\", \"#ff0033\", \"#ff0033\", \"#ff0033\"]}, \"opacity\": 0.9}], {\"title\": \"Feature Importances of Random Forest\", \"xaxis\": {\"title\": \"Importances\"}}, {\"showLink\": true, \"linkText\": \"Export to plot.ly\"})});</script>"
      ]
     },
     "metadata": {},
     "output_type": "display_data"
    }
   ],
   "source": [
    "# N = float(len(cols))\n",
    "# c = ['hsl('+str(h)+',80%'+',60%)' for h in np.linspace(0, 360, N)]\n",
    "colors = ['#ff0033', '#0066cc', '#00cc99', '#ff6600']\n",
    "marker = []\n",
    "for i in range(4):\n",
    "    if colors[i] == '#00cc99':\n",
    "        marker += [colors[i]] * 4\n",
    "    else:\n",
    "        marker += [colors[i]] * 3\n",
    "marker = marker[::-1]\n",
    "\n",
    "data = [go.Bar(\n",
    "    x=imps,\n",
    "    y=cols,\n",
    "    orientation='h',\n",
    "    marker=dict(\n",
    "        color=marker\n",
    "    ),\n",
    "    opacity=0.9\n",
    ")]\n",
    "\n",
    "layout = go.Layout(\n",
    "    title='Feature Importances of Random Forest',\n",
    "    xaxis=dict(\n",
    "        title='Importances'\n",
    "    ), \n",
    ")\n",
    "\n",
    "fig = go.Figure(data=data, layout=layout)\n",
    "py.iplot(fig)"
   ]
  },
  {
   "cell_type": "markdown",
   "metadata": {},
   "source": [
    "### Feature Importances\n",
    "\n",
    "- KDA/킬 관여율/death/assist/KDA 3 이상일 것\n",
    "- 1) Death 대비 Kill/Assist (3인분 이상)와 2) 얼마나 덜 죽고 3) 킬에 많이 관여하는 지"
   ]
  },
  {
   "cell_type": "code",
   "execution_count": 14,
   "metadata": {
    "collapsed": true
   },
   "outputs": [],
   "source": [
    "test, test_label = PrepareData(test).prepare_data()\n",
    "test_pred = model.predict(test)"
   ]
  },
  {
   "cell_type": "code",
   "execution_count": 15,
   "metadata": {},
   "outputs": [
    {
     "name": "stdout",
     "output_type": "stream",
     "text": [
      "[[1745  246]\n",
      " [ 273 2029]]\n"
     ]
    }
   ],
   "source": [
    "print(confusion_matrix(test_label, test_pred))"
   ]
  },
  {
   "cell_type": "code",
   "execution_count": 16,
   "metadata": {},
   "outputs": [
    {
     "name": "stdout",
     "output_type": "stream",
     "text": [
      "             precision    recall  f1-score   support\n",
      "\n",
      "          0       0.86      0.88      0.87      1991\n",
      "          1       0.89      0.88      0.89      2302\n",
      "\n",
      "avg / total       0.88      0.88      0.88      4293\n",
      "\n"
     ]
    }
   ],
   "source": [
    "print(classification_report(test_label, test_pred))"
   ]
  },
  {
   "cell_type": "markdown",
   "metadata": {},
   "source": [
    "## 2. Logistic Regression\n",
    "\n",
    "- Precision/Recall/F1: 0.90/0.90/0.90"
   ]
  },
  {
   "cell_type": "code",
   "execution_count": 17,
   "metadata": {
    "collapsed": true
   },
   "outputs": [],
   "source": [
    "from sklearn.linear_model import LogisticRegression\n",
    "\n",
    "lr = LogisticRegression(random_state=random_state)\n",
    "model_lr = lr.fit(X_train, y_train)"
   ]
  },
  {
   "cell_type": "code",
   "execution_count": 18,
   "metadata": {},
   "outputs": [
    {
     "name": "stdout",
     "output_type": "stream",
     "text": [
      "Cross Val Scores:  [ 0.89440994  0.89389234  0.89182195  0.89440994  0.91299845]\n",
      "Avg Score of CV: 0.898\n"
     ]
    }
   ],
   "source": [
    "cv_scores = cross_val_score(model_lr, X_train, y_train, cv=cv)\n",
    "\n",
    "print('Cross Val Scores: ', cv_scores)\n",
    "print('Avg Score of CV: {:.3f}'.format(cv_scores.mean()))"
   ]
  },
  {
   "cell_type": "code",
   "execution_count": 19,
   "metadata": {
    "collapsed": true
   },
   "outputs": [],
   "source": [
    "test_pred = model_lr.predict(test)"
   ]
  },
  {
   "cell_type": "code",
   "execution_count": 20,
   "metadata": {},
   "outputs": [
    {
     "name": "stdout",
     "output_type": "stream",
     "text": [
      "[[1752  239]\n",
      " [ 210 2092]]\n"
     ]
    }
   ],
   "source": [
    "print(confusion_matrix(test_label, test_pred))"
   ]
  },
  {
   "cell_type": "code",
   "execution_count": 21,
   "metadata": {},
   "outputs": [
    {
     "name": "stdout",
     "output_type": "stream",
     "text": [
      "             precision    recall  f1-score   support\n",
      "\n",
      "          0       0.89      0.88      0.89      1991\n",
      "          1       0.90      0.91      0.90      2302\n",
      "\n",
      "avg / total       0.90      0.90      0.90      4293\n",
      "\n"
     ]
    }
   ],
   "source": [
    "print(classification_report(test_label, test_pred))"
   ]
  },
  {
   "cell_type": "markdown",
   "metadata": {},
   "source": [
    "## 3. XGBoost\n",
    "\n",
    "- Precision/Recall/Fl: 0.90/0.90/0/90"
   ]
  },
  {
   "cell_type": "code",
   "execution_count": 22,
   "metadata": {
    "collapsed": true
   },
   "outputs": [],
   "source": [
    "import xgboost as xgb\n",
    "\n",
    "dtrain = xgb.DMatrix(X_train.values, label=y_train)\n",
    "dtest = xgb.DMatrix(X_test.values, label=y_test)"
   ]
  },
  {
   "cell_type": "code",
   "execution_count": 23,
   "metadata": {},
   "outputs": [
    {
     "name": "stdout",
     "output_type": "stream",
     "text": [
      "[0]\ttrain-mlogloss:0.573123\teval-mlogloss:0.576058\n",
      "Multiple eval metrics have been passed: 'eval-mlogloss' will be used for early stopping.\n",
      "\n",
      "Will train until eval-mlogloss hasn't improved in 10 rounds.\n",
      "[1]\ttrain-mlogloss:0.489844\teval-mlogloss:0.496965\n",
      "[2]\ttrain-mlogloss:0.430451\teval-mlogloss:0.440728\n",
      "[3]\ttrain-mlogloss:0.384064\teval-mlogloss:0.39803\n",
      "[4]\ttrain-mlogloss:0.34949\teval-mlogloss:0.3666\n",
      "[5]\ttrain-mlogloss:0.32157\teval-mlogloss:0.340702\n",
      "[6]\ttrain-mlogloss:0.298083\teval-mlogloss:0.320698\n",
      "[7]\ttrain-mlogloss:0.279595\teval-mlogloss:0.30472\n",
      "[8]\ttrain-mlogloss:0.264352\teval-mlogloss:0.292407\n",
      "[9]\ttrain-mlogloss:0.25173\teval-mlogloss:0.282364\n",
      "[10]\ttrain-mlogloss:0.240854\teval-mlogloss:0.274798\n",
      "[11]\ttrain-mlogloss:0.231276\teval-mlogloss:0.267253\n",
      "[12]\ttrain-mlogloss:0.222941\teval-mlogloss:0.260934\n",
      "[13]\ttrain-mlogloss:0.214971\teval-mlogloss:0.255597\n",
      "[14]\ttrain-mlogloss:0.20855\teval-mlogloss:0.251381\n",
      "[15]\ttrain-mlogloss:0.202772\teval-mlogloss:0.248604\n",
      "[16]\ttrain-mlogloss:0.197628\teval-mlogloss:0.245782\n",
      "[17]\ttrain-mlogloss:0.192382\teval-mlogloss:0.243115\n",
      "[18]\ttrain-mlogloss:0.187135\teval-mlogloss:0.240592\n",
      "[19]\ttrain-mlogloss:0.182863\teval-mlogloss:0.237656\n",
      "[20]\ttrain-mlogloss:0.179393\teval-mlogloss:0.234866\n",
      "[21]\ttrain-mlogloss:0.175624\teval-mlogloss:0.233014\n",
      "[22]\ttrain-mlogloss:0.172458\teval-mlogloss:0.23136\n",
      "[23]\ttrain-mlogloss:0.16937\teval-mlogloss:0.229602\n",
      "[24]\ttrain-mlogloss:0.166838\teval-mlogloss:0.228197\n",
      "[25]\ttrain-mlogloss:0.164843\teval-mlogloss:0.227055\n",
      "[26]\ttrain-mlogloss:0.161933\teval-mlogloss:0.225755\n",
      "[27]\ttrain-mlogloss:0.158861\teval-mlogloss:0.224138\n",
      "[28]\ttrain-mlogloss:0.15641\teval-mlogloss:0.223325\n",
      "[29]\ttrain-mlogloss:0.154797\teval-mlogloss:0.222859\n",
      "[30]\ttrain-mlogloss:0.152835\teval-mlogloss:0.221623\n",
      "[31]\ttrain-mlogloss:0.149962\teval-mlogloss:0.221092\n",
      "[32]\ttrain-mlogloss:0.147992\teval-mlogloss:0.22014\n",
      "[33]\ttrain-mlogloss:0.146653\teval-mlogloss:0.219595\n",
      "[34]\ttrain-mlogloss:0.144766\teval-mlogloss:0.219445\n",
      "[35]\ttrain-mlogloss:0.143211\teval-mlogloss:0.219098\n",
      "[36]\ttrain-mlogloss:0.140949\teval-mlogloss:0.218717\n",
      "[37]\ttrain-mlogloss:0.139223\teval-mlogloss:0.218781\n",
      "[38]\ttrain-mlogloss:0.137553\teval-mlogloss:0.218455\n",
      "[39]\ttrain-mlogloss:0.136508\teval-mlogloss:0.218179\n",
      "[40]\ttrain-mlogloss:0.135428\teval-mlogloss:0.218242\n",
      "[41]\ttrain-mlogloss:0.133411\teval-mlogloss:0.217699\n",
      "[42]\ttrain-mlogloss:0.132099\teval-mlogloss:0.217164\n",
      "[43]\ttrain-mlogloss:0.130296\teval-mlogloss:0.217347\n",
      "[44]\ttrain-mlogloss:0.128946\teval-mlogloss:0.217022\n",
      "[45]\ttrain-mlogloss:0.128144\teval-mlogloss:0.216995\n",
      "[46]\ttrain-mlogloss:0.126361\teval-mlogloss:0.217789\n",
      "[47]\ttrain-mlogloss:0.125146\teval-mlogloss:0.217255\n",
      "[48]\ttrain-mlogloss:0.124478\teval-mlogloss:0.216596\n",
      "[49]\ttrain-mlogloss:0.123815\teval-mlogloss:0.21635\n",
      "[50]\ttrain-mlogloss:0.12262\teval-mlogloss:0.216117\n",
      "[51]\ttrain-mlogloss:0.120547\teval-mlogloss:0.216587\n",
      "[52]\ttrain-mlogloss:0.118937\teval-mlogloss:0.21636\n",
      "[53]\ttrain-mlogloss:0.118432\teval-mlogloss:0.216158\n",
      "[54]\ttrain-mlogloss:0.116901\teval-mlogloss:0.21692\n",
      "[55]\ttrain-mlogloss:0.116032\teval-mlogloss:0.217068\n",
      "[56]\ttrain-mlogloss:0.114957\teval-mlogloss:0.216934\n",
      "[57]\ttrain-mlogloss:0.113924\teval-mlogloss:0.216859\n",
      "[58]\ttrain-mlogloss:0.11342\teval-mlogloss:0.216846\n",
      "[59]\ttrain-mlogloss:0.112414\teval-mlogloss:0.217382\n",
      "[60]\ttrain-mlogloss:0.111458\teval-mlogloss:0.217216\n",
      "Stopping. Best iteration:\n",
      "[50]\ttrain-mlogloss:0.12262\teval-mlogloss:0.216117\n",
      "\n"
     ]
    }
   ],
   "source": [
    "num_boost_round = 200\n",
    "params = {'objective': 'multi:softmax', \n",
    "          'eval_metric': 'mlogloss',\n",
    "          'num_class': 2, \n",
    "          'max_delta_step': 3, \n",
    "          'eta': 0.2}\n",
    "\n",
    "evals = [(dtrain, 'train'), (dtest, 'eval')]\n",
    "\n",
    "bst = xgb.train(params=params,  \n",
    "                dtrain=dtrain, \n",
    "                num_boost_round=num_boost_round, \n",
    "                evals=evals,\n",
    "                early_stopping_rounds=10)"
   ]
  },
  {
   "cell_type": "code",
   "execution_count": 24,
   "metadata": {
    "collapsed": true
   },
   "outputs": [],
   "source": [
    "pred_xgb = bst.predict(dtest)"
   ]
  },
  {
   "cell_type": "code",
   "execution_count": 25,
   "metadata": {},
   "outputs": [
    {
     "name": "stdout",
     "output_type": "stream",
     "text": [
      "[[1338  156]\n",
      " [ 136 1590]]\n"
     ]
    }
   ],
   "source": [
    "print(confusion_matrix(y_test, pred_xgb))"
   ]
  },
  {
   "cell_type": "code",
   "execution_count": 26,
   "metadata": {},
   "outputs": [
    {
     "name": "stdout",
     "output_type": "stream",
     "text": [
      "             precision    recall  f1-score   support\n",
      "\n",
      "          0       0.91      0.90      0.90      1494\n",
      "          1       0.91      0.92      0.92      1726\n",
      "\n",
      "avg / total       0.91      0.91      0.91      3220\n",
      "\n"
     ]
    }
   ],
   "source": [
    "print(classification_report(y_test, pred_xgb))"
   ]
  },
  {
   "cell_type": "code",
   "execution_count": 27,
   "metadata": {
    "collapsed": true
   },
   "outputs": [],
   "source": [
    "dtest_data = xgb.DMatrix(test.values, label=test_label)\n",
    "pred = bst.predict(dtest_data)"
   ]
  },
  {
   "cell_type": "code",
   "execution_count": 28,
   "metadata": {},
   "outputs": [
    {
     "name": "stdout",
     "output_type": "stream",
     "text": [
      "[[1754  237]\n",
      " [ 191 2111]]\n"
     ]
    }
   ],
   "source": [
    "print(confusion_matrix(test_label, pred))"
   ]
  },
  {
   "cell_type": "code",
   "execution_count": 29,
   "metadata": {},
   "outputs": [
    {
     "name": "stdout",
     "output_type": "stream",
     "text": [
      "             precision    recall  f1-score   support\n",
      "\n",
      "          0       0.90      0.88      0.89      1991\n",
      "          1       0.90      0.92      0.91      2302\n",
      "\n",
      "avg / total       0.90      0.90      0.90      4293\n",
      "\n"
     ]
    }
   ],
   "source": [
    "print(classification_report(test_label, pred))"
   ]
  },
  {
   "cell_type": "code",
   "execution_count": null,
   "metadata": {
    "collapsed": true
   },
   "outputs": [],
   "source": []
  }
 ],
 "metadata": {
  "kernelspec": {
   "display_name": "Python 3",
   "language": "python",
   "name": "python3"
  },
  "language_info": {
   "codemirror_mode": {
    "name": "ipython",
    "version": 3
   },
   "file_extension": ".py",
   "mimetype": "text/x-python",
   "name": "python",
   "nbconvert_exporter": "python",
   "pygments_lexer": "ipython3",
   "version": "3.6.3"
  }
 },
 "nbformat": 4,
 "nbformat_minor": 2
}
